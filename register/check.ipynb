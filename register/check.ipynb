{
 "cells": [
  {
   "cell_type": "code",
   "execution_count": 1,
   "metadata": {},
   "outputs": [
    {
     "name": "stdout",
     "output_type": "stream",
     "text": [
      "Collecting pycryptodome\n",
      "  Downloading pycryptodome-3.18.0-cp35-abi3-macosx_10_9_universal2.whl (2.4 MB)\n",
      "\u001b[2K     \u001b[90m━━━━━━━━━━━━━━━━━━━━━━━━━━━━━━━━━━━━━━━━\u001b[0m \u001b[32m2.4/2.4 MB\u001b[0m \u001b[31m13.5 MB/s\u001b[0m eta \u001b[36m0:00:00\u001b[0ma \u001b[36m0:00:01\u001b[0m\n",
      "\u001b[?25hInstalling collected packages: pycryptodome\n",
      "Successfully installed pycryptodome-3.18.0\n"
     ]
    }
   ],
   "source": [
    "!pip install pycryptodome"
   ]
  },
  {
   "cell_type": "code",
   "execution_count": 12,
   "metadata": {},
   "outputs": [],
   "source": [
    "from Crypto.Cipher import AES\n",
    "from Crypto.Util.Padding import pad, unpad\n",
    "from Crypto.Random import get_random_bytes\n",
    "\n",
    "def encrypt_data(data):\n",
    "    key = get_random_bytes(32)\n",
    "    cipher = AES.new(key, AES.MODE_CBC)  # create cipher object\n",
    "    ct_bytes = cipher.encrypt(pad(data.encode(), AES.block_size))  # pad the data and encrypt it\n",
    "\n",
    "    iv = cipher.iv\n",
    "    ciphertext = ct_bytes\n",
    "\n",
    "    return key, iv, ciphertext  # returns a thruple of key, iv, and ciphertext\n",
    "\n",
    "def decrypt_data(iv, ciphertext, key):\n",
    "    cipher = AES.new(key, AES.MODE_CBC, iv=iv)  # create cipher object\n",
    "    plaintext = unpad(cipher.decrypt(ciphertext), AES.block_size)  # decrypt the ciphertext and unpad it\n",
    "\n",
    "    return plaintext.decode()\n"
   ]
  },
  {
   "cell_type": "code",
   "execution_count": 24,
   "metadata": {},
   "outputs": [
    {
     "name": "stdout",
     "output_type": "stream",
     "text": [
      "jr_at_kibly_dot_com_vvclient\n"
     ]
    }
   ],
   "source": [
    "def strip_email(email):\n",
    "    email = email.replace(\" \", \"\")  # remove any whitespace and replace dots with underscores\n",
    "    local, domain = email.split('@')\n",
    "    local = local.split('+')[0]\n",
    "    return local + '@' + domain\n",
    "\n",
    "def get_user_id(input_string):\n",
    "    return input_string.replace(\"@\", \"_at_\").replace(\".\", \"_dot_\") + '_vvclient'\n",
    "\n",
    "email = strip_email('jr+1@kibly.com  ')\n",
    "\n",
    "user_id = get_user_id(email)\n",
    "print(user_id)\n"
   ]
  },
  {
   "cell_type": "code",
   "execution_count": 20,
   "metadata": {},
   "outputs": [
    {
     "name": "stdout",
     "output_type": "stream",
     "text": [
      "Ciphertext: b\"\\x86#\\t/\\xce\\xb7\\xdf\\xe0\\xda\\x0c\\xac\\xca\\xcc/\\x8dP\\xe7\\xbf\\x8c\\x1dk\\xf5\\x05Y\\xb0!\\x17\\xa9s7\\xdc'\" + iv: b'\\x91\\x0e\\x11\\xf0\\x96\\xf4\\x7fX\\xa0,\\xc4\\xa7d\\r\\xae\\xe6', Key: b'\\xc3.2t9\\n\\x08\\xce\\x9e~\\xa5\\xe1{\\x9b)[\\x0f\\xdc\\xd1}\\xd0\\x86\\x15.\\x19\\xa3G\\xb44\\xe2\\xb2Q'      \n"
     ]
    }
   ],
   "source": [
    "\n",
    "data = 'expected_authorization_code'\n",
    "key, iv, ciphertext = encrypt_data(data)\n",
    "print(f\"Ciphertext: {ciphertext} + iv: {iv}, Key: {key}      \")\n"
   ]
  },
  {
   "cell_type": "code",
   "execution_count": 18,
   "metadata": {},
   "outputs": [
    {
     "name": "stdout",
     "output_type": "stream",
     "text": [
      "Plaintext: John Rood is soooooooo Awesome!!!\n"
     ]
    }
   ],
   "source": [
    "\n",
    "plaintext = decrypt_data(iv, ciphertext, key)\n",
    "print(f\"Plaintext: {plaintext}\")"
   ]
  }
 ],
 "metadata": {
  "kernelspec": {
   "display_name": "base",
   "language": "python",
   "name": "python3"
  },
  "language_info": {
   "codemirror_mode": {
    "name": "ipython",
    "version": 3
   },
   "file_extension": ".py",
   "mimetype": "text/x-python",
   "name": "python",
   "nbconvert_exporter": "python",
   "pygments_lexer": "ipython3",
   "version": "3.10.9"
  },
  "orig_nbformat": 4
 },
 "nbformat": 4,
 "nbformat_minor": 2
}
